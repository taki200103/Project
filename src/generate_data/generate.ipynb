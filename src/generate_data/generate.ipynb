{
 "cells": [
  {
   "cell_type": "code",
   "execution_count": null,
   "metadata": {},
   "outputs": [
    {
     "name": "stdout",
     "output_type": "stream",
     "text": [
      "Data inserted successfully!\n"
     ]
    }
   ],
   "source": [
    "# User generate\n",
    "import psycopg2\n",
    "\n",
    "# Kết nối đến cơ sở dữ liệu PostgreSQL\n",
    "conn = psycopg2.connect(\n",
    "    dbname=\"postgres\",\n",
    "    user=\"postgres\",\n",
    "    password=\"200103\",\n",
    "    host=\"localhost\",\n",
    "    port=\"5432\"\n",
    ")\n",
    "\n",
    "# Tạo con trỏ để thực hiện các câu lệnh SQL\n",
    "cur = conn.cursor()\n",
    "\n",
    "# Sinh dữ liệu và chèn vào bảng\n",
    "for i in range(100):\n",
    "    user_id = f\"U{i:06}\"  # ID định dạng U000000 - U000099\n",
    "    user_name = f\"user{i}\"\n",
    "    email = f\"user{i}@gmail.com\"\n",
    "    password = \"123\"\n",
    "    \n",
    "    insert_query = \"\"\"\n",
    "    INSERT INTO \"User\" (user_id, user_name, email, password)\n",
    "    VALUES (%s, %s, %s, %s)\n",
    "    ON CONFLICT (user_id) DO NOTHING;\n",
    "    \"\"\"\n",
    "    cur.execute(insert_query, (user_id, user_name, email, password))\n",
    "\n",
    "# Xác nhận thay đổi và đóng kết nối\n",
    "conn.commit()\n",
    "cur.close()\n",
    "conn.close()\n",
    "\n",
    "print(\"Data inserted successfully!\")\n"
   ]
  },
  {
   "cell_type": "code",
   "execution_count": null,
   "metadata": {},
   "outputs": [],
   "source": []
  },
  {
   "cell_type": "code",
   "execution_count": null,
   "metadata": {},
   "outputs": [],
   "source": []
  },
  {
   "cell_type": "code",
   "execution_count": null,
   "metadata": {},
   "outputs": [],
   "source": []
  },
  {
   "cell_type": "code",
   "execution_count": null,
   "metadata": {},
   "outputs": [],
   "source": []
  },
  {
   "cell_type": "code",
   "execution_count": null,
   "metadata": {},
   "outputs": [],
   "source": []
  }
 ],
 "metadata": {
  "kernelspec": {
   "display_name": "Python 3",
   "language": "python",
   "name": "python3"
  },
  "language_info": {
   "codemirror_mode": {
    "name": "ipython",
    "version": 3
   },
   "file_extension": ".py",
   "mimetype": "text/x-python",
   "name": "python",
   "nbconvert_exporter": "python",
   "pygments_lexer": "ipython3",
   "version": "3.12.4"
  }
 },
 "nbformat": 4,
 "nbformat_minor": 2
}
